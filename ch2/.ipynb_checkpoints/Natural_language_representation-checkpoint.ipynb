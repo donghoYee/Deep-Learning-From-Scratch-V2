{
 "cells": [
  {
   "cell_type": "markdown",
   "id": "f1b3e67d",
   "metadata": {},
   "source": [
    "# 자연어 처리\n",
    "* 단어간의 관계\n",
    " * 시소러스\n",
    " * 통계기반\n",
    " * 추론 기반"
   ]
  },
  {
   "cell_type": "markdown",
   "id": "b8d0572b",
   "metadata": {},
   "source": [
    "### 시소러스 -> 수작업"
   ]
  },
  {
   "cell_type": "markdown",
   "id": "4b8cb35c",
   "metadata": {},
   "source": [
    "## 통계 기반 기법"
   ]
  },
  {
   "cell_type": "code",
   "execution_count": 1,
   "id": "d025326b",
   "metadata": {},
   "outputs": [],
   "source": [
    "text = 'you say goobye and I say hello.'"
   ]
  },
  {
   "cell_type": "code",
   "execution_count": 2,
   "id": "d7e41590",
   "metadata": {},
   "outputs": [
    {
     "name": "stdout",
     "output_type": "stream",
     "text": [
      "you say goobye and i say hello .\n"
     ]
    }
   ],
   "source": [
    "text = text.lower() #소문자로\n",
    "text = text.replace('.', ' .') # 점도 하나의 단어로 판별!\n",
    "print(text)"
   ]
  },
  {
   "cell_type": "code",
   "execution_count": 3,
   "id": "7cd49a07",
   "metadata": {},
   "outputs": [
    {
     "name": "stdout",
     "output_type": "stream",
     "text": [
      "['you', 'say', 'goobye', 'and', 'i', 'say', 'hello', '.']\n"
     ]
    }
   ],
   "source": [
    "words = text.split(' ') #단어로 분해 -> list 생성!\n",
    "print(words)"
   ]
  },
  {
   "cell_type": "code",
   "execution_count": 6,
   "id": "aff26902",
   "metadata": {},
   "outputs": [],
   "source": [
    "word_to_id = {}\n",
    "id_to_word = {}\n",
    "\n",
    "for word in words:\n",
    "    if word not in word_to_id:\n",
    "        new_id = len(word_to_id) # number of words in dictionary\n",
    "        word_to_id[word] = new_id # {\"you\": 0, \"say\": 1, ...}\n",
    "        id_to_word[new_id] = word"
   ]
  },
  {
   "cell_type": "code",
   "execution_count": 7,
   "id": "2de75fb2",
   "metadata": {},
   "outputs": [
    {
     "name": "stdout",
     "output_type": "stream",
     "text": [
      "{'you': 0, 'say': 1, 'goobye': 2, 'and': 3, 'i': 4, 'hello': 5, '.': 6}\n",
      "{0: 'you', 1: 'say', 2: 'goobye', 3: 'and', 4: 'i', 5: 'hello', 6: '.'}\n"
     ]
    }
   ],
   "source": [
    "print(word_to_id)\n",
    "print(id_to_word)"
   ]
  },
  {
   "cell_type": "code",
   "execution_count": 8,
   "id": "88c34764",
   "metadata": {},
   "outputs": [
    {
     "data": {
      "text/plain": [
       "'say'"
      ]
     },
     "execution_count": 8,
     "metadata": {},
     "output_type": "execute_result"
    }
   ],
   "source": [
    "id_to_word[1]"
   ]
  },
  {
   "cell_type": "code",
   "execution_count": 9,
   "id": "c5ad90e3",
   "metadata": {},
   "outputs": [
    {
     "name": "stdout",
     "output_type": "stream",
     "text": [
      "[0 1 2 3 4 1 5 6]\n"
     ]
    }
   ],
   "source": [
    "import numpy as np\n",
    "corpus = [word_to_id[w] for w in words]\n",
    "corpus = np.array(corpus)\n",
    "print(corpus)"
   ]
  },
  {
   "cell_type": "markdown",
   "id": "471ad6f2",
   "metadata": {},
   "source": [
    "### preprocess function : create corpus and dicts from str"
   ]
  },
  {
   "cell_type": "code",
   "execution_count": 10,
   "id": "2023181d",
   "metadata": {},
   "outputs": [],
   "source": [
    "def preprocess(text):\n",
    "    text=text.lower()\n",
    "    text=text.replace('.', ' .')\n",
    "    words=text.split()\n",
    "    word_to_id={}\n",
    "    id_to_word={}\n",
    "\n",
    "    for word in words:\n",
    "        if word not in word_to_id:\n",
    "            new_id=len(word_to_id)\n",
    "            word_to_id[word]=new_id\n",
    "            id_to_word[new_id]=word\n",
    "\n",
    "    corpus=np.array([word_to_id[w] for w in words])\n",
    "\n",
    "\n",
    "    return corpus, word_to_id, id_to_word"
   ]
  },
  {
   "cell_type": "code",
   "execution_count": 11,
   "id": "04af3659",
   "metadata": {},
   "outputs": [
    {
     "name": "stdout",
     "output_type": "stream",
     "text": [
      "[0 1 2 3 4 1 5 6]\n",
      "{'you': 0, 'say': 1, 'goobye': 2, 'and': 3, 'i': 4, 'hello': 5, '.': 6}\n",
      "{0: 'you', 1: 'say', 2: 'goobye', 3: 'and', 4: 'i', 5: 'hello', 6: '.'}\n"
     ]
    }
   ],
   "source": [
    "corpus, word_to_id, id_to_word = preprocess(text)\n",
    "print(corpus)\n",
    "print(word_to_id)\n",
    "print(id_to_word)"
   ]
  },
  {
   "cell_type": "markdown",
   "id": "6c61a2bf",
   "metadata": {},
   "source": [
    "## 단어의 분산 표현"
   ]
  },
  {
   "cell_type": "markdown",
   "id": "3a15bdbd",
   "metadata": {},
   "source": [
    "### 동시발생 행렬"
   ]
  },
  {
   "cell_type": "code",
   "execution_count": 12,
   "id": "b97ddcee",
   "metadata": {},
   "outputs": [],
   "source": [
    "def create_co_matrix(corpus, vocab_size, window_size=1):\n",
    "    corpus_size=len(corpus)\n",
    "    co_matrix=np.zeros((vocab_size, vocab_size), dtype=np.int32)\n",
    "\n",
    "    for idx, word_id in enumerate(corpus):\n",
    "        for i in range(1, window_size+1):\n",
    "            left_idx=idx-i\n",
    "            right_idx=idx+i\n",
    "\n",
    "            if left_idx >=0:\n",
    "                left_word_id=corpus[left_idx]\n",
    "                co_matrix[word_id, left_word_id]+=1\n",
    "\n",
    "            if right_idx<corpus_size:\n",
    "                right_word_id=corpus[right_idx]\n",
    "                co_matrix[word_id, right_word_id]+=1\n",
    "\n",
    "    return co_matrix"
   ]
  },
  {
   "cell_type": "code",
   "execution_count": 25,
   "id": "50719746",
   "metadata": {},
   "outputs": [
    {
     "name": "stdout",
     "output_type": "stream",
     "text": [
      "[[0 1 0 0 0 0 0]\n",
      " [1 0 1 0 1 1 0]\n",
      " [0 1 0 1 0 0 0]\n",
      " [0 0 1 0 1 0 0]\n",
      " [0 1 0 1 0 0 0]\n",
      " [0 1 0 0 0 0 1]\n",
      " [0 0 0 0 0 1 0]]\n"
     ]
    }
   ],
   "source": [
    "co_mat = create_co_matrix(corpus, len(word_to_id), 1)\n",
    "print(co_mat)"
   ]
  },
  {
   "cell_type": "markdown",
   "id": "9e11eed2",
   "metadata": {},
   "source": [
    "### 벡터간 유사도"
   ]
  },
  {
   "cell_type": "code",
   "execution_count": 26,
   "id": "6874e4ab",
   "metadata": {},
   "outputs": [],
   "source": [
    "def cos_similarity(x,y, eps=1e-8):\n",
    "    nx=x/(np.sqrt(np.sum(x**2))+eps)\n",
    "    ny=y/(np.sqrt(np.sum(y**2))+eps)\n",
    "\n",
    "    return np.dot(nx,ny)"
   ]
  },
  {
   "cell_type": "code",
   "execution_count": 27,
   "id": "80fcb1a3",
   "metadata": {},
   "outputs": [
    {
     "data": {
      "text/plain": [
       "0.7071067691154799"
      ]
     },
     "execution_count": 27,
     "metadata": {},
     "output_type": "execute_result"
    }
   ],
   "source": [
    "cos_similarity(co_mat[word_to_id['you']], co_mat[word_to_id['i']]) #you와 i 간의 유사도"
   ]
  },
  {
   "cell_type": "markdown",
   "id": "86800918",
   "metadata": {},
   "source": [
    "### 유사단어 표시"
   ]
  },
  {
   "cell_type": "code",
   "execution_count": 28,
   "id": "c980a42f",
   "metadata": {},
   "outputs": [],
   "source": [
    "def most_similar(query, word_to_id, id_to_word, word_matrix, top=5):\n",
    "\n",
    "    if query not in word_to_id:\n",
    "        print(\"unable to find %s. \" &query)\n",
    "        return\n",
    "\n",
    "    print('\\n[query] '+query)\n",
    "    query_id=word_to_id[query]\n",
    "    query_vec=word_matrix[query_id]\n",
    "\n",
    "    vocab_size=len(id_to_word)\n",
    "    similarity=np.zeros(vocab_size)\n",
    "\n",
    "    for i in range(vocab_size):\n",
    "        similarity[i]=cos_similarity(word_matrix[i], query_vec)\n",
    "\n",
    "    count=0\n",
    "    for i in (-1*similarity).argsort():\n",
    "        if id_to_word[i]==query:\n",
    "            continue\n",
    "        print('%s: %s' %(id_to_word[i], similarity[i]))\n",
    "\n",
    "        count+=1\n",
    "\n",
    "        if count>=top:\n",
    "            return"
   ]
  },
  {
   "cell_type": "code",
   "execution_count": 30,
   "id": "668b3fbe",
   "metadata": {},
   "outputs": [
    {
     "data": {
      "text/plain": [
       "array([1, 2, 0])"
      ]
     },
     "execution_count": 30,
     "metadata": {},
     "output_type": "execute_result"
    }
   ],
   "source": [
    "x = np.array([100,-20,2])\n",
    "x.argsort()"
   ]
  },
  {
   "cell_type": "code",
   "execution_count": 31,
   "id": "abe6ef26",
   "metadata": {},
   "outputs": [
    {
     "name": "stdout",
     "output_type": "stream",
     "text": [
      "\n",
      "[query] you\n",
      "goobye: 0.7071067691154799\n",
      "i: 0.7071067691154799\n",
      "hello: 0.7071067691154799\n",
      "say: 0.0\n",
      "and: 0.0\n"
     ]
    }
   ],
   "source": [
    "most_similar(\"you\", word_to_id, id_to_word, co_mat, top=5)"
   ]
  },
  {
   "cell_type": "markdown",
   "id": "daa0396d",
   "metadata": {},
   "source": [
    "## 상호정보량"
   ]
  },
  {
   "cell_type": "code",
   "execution_count": 32,
   "id": "418900e5",
   "metadata": {},
   "outputs": [],
   "source": [
    "def ppmi(C, verbose=False, eps=1e-8):\n",
    "    M=np.zeros_like(C, dtype=np.float32)\n",
    "    N=np.sum(C)\n",
    "    S=np.sum(C, axis=0)\n",
    "\n",
    "    total=C.shape[0]*C.shape[1]  #total number!\n",
    "    cnt=0\n",
    "\n",
    "    for i in range(C.shape[0]):\n",
    "        for j in range(C.shape[1]):\n",
    "            pmi=np.log2(C[i,j]*N/(S[j]*S[i])+eps)\n",
    "            M[i,j]=max(0,pmi)\n",
    "\n",
    "            if verbose:\n",
    "                cnt+=1\n",
    "                if cnt%(total//100+1)==0:\n",
    "                    print(\"%.1f%% complete\" %(100*cnt/total))\n",
    "\n",
    "    return M"
   ]
  },
  {
   "cell_type": "code",
   "execution_count": 33,
   "id": "00253452",
   "metadata": {},
   "outputs": [
    {
     "name": "stdout",
     "output_type": "stream",
     "text": [
      "[[0.        1.8073549 0.        0.        0.        0.        0.       ]\n",
      " [1.8073549 0.        0.8073549 0.        0.8073549 0.8073549 0.       ]\n",
      " [0.        0.8073549 0.        1.8073549 0.        0.        0.       ]\n",
      " [0.        0.        1.8073549 0.        1.8073549 0.        0.       ]\n",
      " [0.        0.8073549 0.        1.8073549 0.        0.        0.       ]\n",
      " [0.        0.8073549 0.        0.        0.        0.        2.807355 ]\n",
      " [0.        0.        0.        0.        0.        2.807355  0.       ]]\n"
     ]
    }
   ],
   "source": [
    "ppmi_mat = ppmi(co_mat)\n",
    "print(ppmi_mat)"
   ]
  },
  {
   "cell_type": "code",
   "execution_count": 34,
   "id": "1b6cff3a",
   "metadata": {},
   "outputs": [
    {
     "name": "stdout",
     "output_type": "stream",
     "text": [
      "\n",
      "[query] you\n",
      "goobye: 0.40786147117614746\n",
      "i: 0.40786147117614746\n",
      "hello: 0.2763834297657013\n",
      "say: 0.0\n",
      "and: 0.0\n"
     ]
    }
   ],
   "source": [
    "most_similar(\"you\", word_to_id, id_to_word, ppmi_mat, top=5)"
   ]
  },
  {
   "cell_type": "markdown",
   "id": "c212c5c5",
   "metadata": {},
   "source": [
    "## 차원감소\n",
    " * 특잇값 분해!"
   ]
  },
  {
   "cell_type": "code",
   "execution_count": 35,
   "id": "ab0f13be",
   "metadata": {},
   "outputs": [
    {
     "name": "stdout",
     "output_type": "stream",
     "text": [
      "[0 1 0 0 0 0 0]\n",
      "[0.        1.8073549 0.        0.        0.        0.        0.       ]\n",
      "[ 3.4094876e-01 -1.1102230e-16 -1.2051624e-01 -4.1633363e-16\n",
      " -9.3232495e-01 -1.1102230e-16 -2.4257469e-17]\n"
     ]
    },
    {
     "data": {
      "image/png": "[encoded data removed]",
      "text/plain": [
       "<Figure size 432x288 with 1 Axes>"
      ]
     },
     "metadata": {
      "needs_background": "light"
     },
     "output_type": "display_data"
    }
   ],
   "source": [
    "U, S, V=np.linalg.svd(ppmi_mat)\n",
    "\n",
    "print(co_mat[0])\n",
    "print(ppmi_mat[0])\n",
    "\n",
    "print(U[0])\n",
    "\n",
    "\n",
    "import matplotlib.pyplot as plt\n",
    "\n",
    "for word, word_id in word_to_id.items():\n",
    "    plt.annotate(word, (U[word_id, 0], U[word_id, 1]))\n",
    "\n",
    "plt.scatter(U[:,0], U[:,1], alpha=0.5)\n",
    "plt.show()"
   ]
  },
  {
   "cell_type": "code",
   "execution_count": 37,
   "id": "d23e5030",
   "metadata": {},
   "outputs": [
    {
     "data": {
      "text/plain": [
       "array([[ 3.4094876e-01, -1.1102230e-16],\n",
       "       [ 0.0000000e+00, -5.9763640e-01],\n",
       "       [ 4.3631220e-01, -5.5511151e-17],\n",
       "       [ 1.6653345e-16, -4.9782813e-01],\n",
       "       [ 4.3631220e-01, -3.1237506e-17],\n",
       "       [ 7.0923710e-01, -3.1237506e-17],\n",
       "       [-1.6653345e-16, -6.2848860e-01]], dtype=float32)"
      ]
     },
     "execution_count": 37,
     "metadata": {},
     "output_type": "execute_result"
    }
   ],
   "source": [
    "U[:,:2] #줄여진 표현!"
   ]
  },
  {
   "cell_type": "markdown",
   "id": "ddaa5a25",
   "metadata": {},
   "source": [
    "# PTB dataset"
   ]
  },
  {
   "cell_type": "code",
   "execution_count": null,
   "id": "270a78e9",
   "metadata": {},
   "outputs": [
    {
     "name": "stdout",
     "output_type": "stream",
     "text": [
      "calculating sync happening matrix\n",
      "Calculating PPMI\n",
      "1.0% complete\n",
      "2.0% complete\n",
      "3.0% complete\n",
      "4.0% complete\n",
      "5.0% complete\n",
      "6.0% complete\n",
      "7.0% complete\n",
      "8.0% complete\n",
      "9.0% complete\n",
      "10.0% complete\n",
      "11.0% complete\n",
      "12.0% complete\n",
      "13.0% complete\n",
      "14.0% complete\n",
      "15.0% complete\n"
     ]
    }
   ],
   "source": [
    "import sys\n",
    "sys.path.append(\"../book/\")\n",
    "from util import most_similar, create_co_matrix, ppmi\n",
    "\n",
    "from dataset import ptb\n",
    "\n",
    "window_size=2\n",
    "wordvec_size=100\n",
    "\n",
    "corpus, word_to_id, id_to_word=ptb.load_data(\"train\")\n",
    "vocab_size=len(word_to_id)\n",
    "print(\"calculating sync happening matrix\")\n",
    "\n",
    "C=create_co_matrix(corpus, vocab_size, window_size)\n",
    "print(\"Calculating PPMI\")\n",
    "W=ppmi(C, verbose=True)\n",
    "\n",
    "print(\"Calculating SVD\")\n",
    "\n",
    "try:\n",
    "    from sklearn.utils.extmath import randomized_svd\n",
    "    U,S,V=randomized_svd(W, n_components=wordvec_size, n_iter=5, random_state=None)\n",
    "\n",
    "except ImportError:\n",
    "    U,S,V=np.linalg.svd(W)\n",
    "\n",
    "word_vecs=U[:, :wordvec_size]\n",
    "\n",
    "querys=['you', 'year', 'car', 'toyota']\n",
    "\n",
    "for query in querys:\n",
    "    most_similar(query, word_to_id, id_to_word, word_vecs, top=5)"
   ]
  },
  {
   "cell_type": "code",
   "execution_count": null,
   "id": "e5d0663e",
   "metadata": {},
   "outputs": [],
   "source": []
  }
 ],
 "metadata": {
  "kernelspec": {
   "display_name": "Python [conda env:DLFS]",
   "language": "python",
   "name": "conda-env-DLFS-py"
  },
  "language_info": {
   "codemirror_mode": {
    "name": "ipython",
    "version": 3
   },
   "file_extension": ".py",
   "mimetype": "text/x-python",
   "name": "python",
   "nbconvert_exporter": "python",
   "pygments_lexer": "ipython3",
   "version": "3.10.4"
  }
 },
 "nbformat": 4,
 "nbformat_minor": 5
}
