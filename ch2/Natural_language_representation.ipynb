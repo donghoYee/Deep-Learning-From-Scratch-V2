{
 "cells": [
  {
   "cell_type": "markdown",
   "id": "8ed1d34c",
   "metadata": {},
   "source": [
    "# 자연어 처리\n",
    "* 단어간의 관계\n",
    " * 시소러스\n",
    " * 통계기반\n",
    " * 추론 기반"
   ]
  },
  {
   "cell_type": "markdown",
   "id": "84092db3",
   "metadata": {},
   "source": [
    "### 시소러스 -> 수작업"
   ]
  },
  {
   "cell_type": "markdown",
   "id": "eba8e378",
   "metadata": {},
   "source": [
    "## 통계 기반 기법"
   ]
  },
  {
   "cell_type": "code",
   "execution_count": 1,
   "id": "a1b37147",
   "metadata": {},
   "outputs": [],
   "source": [
    "text = 'you say goobye and I say hello.'"
   ]
  },
  {
   "cell_type": "code",
   "execution_count": 2,
   "id": "7cdd66f1",
   "metadata": {},
   "outputs": [
    {
     "name": "stdout",
     "output_type": "stream",
     "text": [
      "you say goobye and i say hello .\n"
     ]
    }
   ],
   "source": [
    "text = text.lower() #소문자로\n",
    "text = text.replace('.', ' .') # 점도 하나의 단어로 판별!\n",
    "print(text)"
   ]
  },
  {
   "cell_type": "code",
   "execution_count": 3,
   "id": "bc4aa48e",
   "metadata": {},
   "outputs": [
    {
     "name": "stdout",
     "output_type": "stream",
     "text": [
      "['you', 'say', 'goobye', 'and', 'i', 'say', 'hello', '.']\n"
     ]
    }
   ],
   "source": [
    "words = text.split(' ') #단어로 분해 -> list 생성!\n",
    "print(words)"
   ]
  },
  {
   "cell_type": "code",
   "execution_count": 6,
   "id": "42986074",
   "metadata": {},
   "outputs": [],
   "source": [
    "word_to_id = {}\n",
    "id_to_word = {}\n",
    "\n",
    "for word in words:\n",
    "    if word not in word_to_id:\n",
    "        new_id = len(word_to_id) # number of words in dictionary\n",
    "        word_to_id[word] = new_id # {\"you\": 0, \"say\": 1, ...}\n",
    "        id_to_word[new_id] = word"
   ]
  },
  {
   "cell_type": "code",
   "execution_count": 7,
   "id": "f886499a",
   "metadata": {},
   "outputs": [
    {
     "name": "stdout",
     "output_type": "stream",
     "text": [
      "{'you': 0, 'say': 1, 'goobye': 2, 'and': 3, 'i': 4, 'hello': 5, '.': 6}\n",
      "{0: 'you', 1: 'say', 2: 'goobye', 3: 'and', 4: 'i', 5: 'hello', 6: '.'}\n"
     ]
    }
   ],
   "source": [
    "print(word_to_id)\n",
    "print(id_to_word)"
   ]
  },
  {
   "cell_type": "code",
   "execution_count": 8,
   "id": "4e29ef20",
   "metadata": {},
   "outputs": [
    {
     "data": {
      "text/plain": [
       "'say'"
      ]
     },
     "execution_count": 8,
     "metadata": {},
     "output_type": "execute_result"
    }
   ],
   "source": [
    "id_to_word[1]"
   ]
  },
  {
   "cell_type": "code",
   "execution_count": 9,
   "id": "f76d66c1",
   "metadata": {},
   "outputs": [
    {
     "name": "stdout",
     "output_type": "stream",
     "text": [
      "[0 1 2 3 4 1 5 6]\n"
     ]
    }
   ],
   "source": [
    "import numpy as np\n",
    "corpus = [word_to_id[w] for w in words]\n",
    "corpus = np.array(corpus)\n",
    "print(corpus)"
   ]
  },
  {
   "cell_type": "markdown",
   "id": "95a70e25",
   "metadata": {},
   "source": [
    "### preprocess function : create corpus and dicts from str"
   ]
  },
  {
   "cell_type": "code",
   "execution_count": 10,
   "id": "c707f3c2",
   "metadata": {},
   "outputs": [],
   "source": [
    "def preprocess(text):\n",
    "    text=text.lower()\n",
    "    text=text.replace('.', ' .')\n",
    "    words=text.split()\n",
    "    word_to_id={}\n",
    "    id_to_word={}\n",
    "\n",
    "    for word in words:\n",
    "        if word not in word_to_id:\n",
    "            new_id=len(word_to_id)\n",
    "            word_to_id[word]=new_id\n",
    "            id_to_word[new_id]=word\n",
    "\n",
    "    corpus=np.array([word_to_id[w] for w in words])\n",
    "\n",
    "\n",
    "    return corpus, word_to_id, id_to_word"
   ]
  },
  {
   "cell_type": "code",
   "execution_count": 11,
   "id": "cb0b9166",
   "metadata": {},
   "outputs": [
    {
     "name": "stdout",
     "output_type": "stream",
     "text": [
      "[0 1 2 3 4 1 5 6]\n",
      "{'you': 0, 'say': 1, 'goobye': 2, 'and': 3, 'i': 4, 'hello': 5, '.': 6}\n",
      "{0: 'you', 1: 'say', 2: 'goobye', 3: 'and', 4: 'i', 5: 'hello', 6: '.'}\n"
     ]
    }
   ],
   "source": [
    "corpus, word_to_id, id_to_word = preprocess(text)\n",
    "print(corpus)\n",
    "print(word_to_id)\n",
    "print(id_to_word)"
   ]
  },
  {
   "cell_type": "markdown",
   "id": "a27aad7e",
   "metadata": {},
   "source": [
    "## 단어의 분산 표현"
   ]
  },
  {
   "cell_type": "markdown",
   "id": "40bef66d",
   "metadata": {},
   "source": [
    "### 동시발생 행렬"
   ]
  },
  {
   "cell_type": "code",
   "execution_count": 12,
   "id": "157f6070",
   "metadata": {},
   "outputs": [],
   "source": [
    "def create_co_matrix(corpus, vocab_size, window_size=1):\n",
    "    corpus_size=len(corpus)\n",
    "    co_matrix=np.zeros((vocab_size, vocab_size), dtype=np.int32)\n",
    "\n",
    "    for idx, word_id in enumerate(corpus):\n",
    "        for i in range(1, window_size+1):\n",
    "            left_idx=idx-i\n",
    "            right_idx=idx+i\n",
    "\n",
    "            if left_idx >=0:\n",
    "                left_word_id=corpus[left_idx]\n",
    "                co_matrix[word_id, left_word_id]+=1\n",
    "\n",
    "            if right_idx<corpus_size:\n",
    "                right_word_id=corpus[right_idx]\n",
    "                co_matrix[word_id, right_word_id]+=1\n",
    "\n",
    "    return co_matrix"
   ]
  },
  {
   "cell_type": "code",
   "execution_count": 25,
   "id": "0cb5d9be",
   "metadata": {},
   "outputs": [
    {
     "name": "stdout",
     "output_type": "stream",
     "text": [
      "[[0 1 0 0 0 0 0]\n",
      " [1 0 1 0 1 1 0]\n",
      " [0 1 0 1 0 0 0]\n",
      " [0 0 1 0 1 0 0]\n",
      " [0 1 0 1 0 0 0]\n",
      " [0 1 0 0 0 0 1]\n",
      " [0 0 0 0 0 1 0]]\n"
     ]
    }
   ],
   "source": [
    "co_mat = create_co_matrix(corpus, len(word_to_id), 1)\n",
    "print(co_mat)"
   ]
  },
  {
   "cell_type": "markdown",
   "id": "b54dce2a",
   "metadata": {},
   "source": [
    "### 벡터간 유사도"
   ]
  },
  {
   "cell_type": "code",
   "execution_count": 26,
   "id": "5fb9bf37",
   "metadata": {},
   "outputs": [],
   "source": [
    "def cos_similarity(x,y, eps=1e-8):\n",
    "    nx=x/(np.sqrt(np.sum(x**2))+eps)\n",
    "    ny=y/(np.sqrt(np.sum(y**2))+eps)\n",
    "\n",
    "    return np.dot(nx,ny)"
   ]
  },
  {
   "cell_type": "code",
   "execution_count": 27,
   "id": "7b9eec78",
   "metadata": {},
   "outputs": [
    {
     "data": {
      "text/plain": [
       "0.7071067691154799"
      ]
     },
     "execution_count": 27,
     "metadata": {},
     "output_type": "execute_result"
    }
   ],
   "source": [
    "cos_similarity(co_mat[word_to_id['you']], co_mat[word_to_id['i']]) #you와 i 간의 유사도"
   ]
  },
  {
   "cell_type": "markdown",
   "id": "5e3b33a5",
   "metadata": {},
   "source": [
    "### 유사단어 표시"
   ]
  },
  {
   "cell_type": "code",
   "execution_count": 28,
   "id": "814cd49a",
   "metadata": {},
   "outputs": [],
   "source": [
    "def most_similar(query, word_to_id, id_to_word, word_matrix, top=5):\n",
    "\n",
    "    if query not in word_to_id:\n",
    "        print(\"unable to find %s. \" &query)\n",
    "        return\n",
    "\n",
    "    print('\\n[query] '+query)\n",
    "    query_id=word_to_id[query]\n",
    "    query_vec=word_matrix[query_id]\n",
    "\n",
    "    vocab_size=len(id_to_word)\n",
    "    similarity=np.zeros(vocab_size)\n",
    "\n",
    "    for i in range(vocab_size):\n",
    "        similarity[i]=cos_similarity(word_matrix[i], query_vec)\n",
    "\n",
    "    count=0\n",
    "    for i in (-1*similarity).argsort():\n",
    "        if id_to_word[i]==query:\n",
    "            continue\n",
    "        print('%s: %s' %(id_to_word[i], similarity[i]))\n",
    "\n",
    "        count+=1\n",
    "\n",
    "        if count>=top:\n",
    "            return"
   ]
  },
  {
   "cell_type": "code",
   "execution_count": 30,
   "id": "0f1a0bc1",
   "metadata": {},
   "outputs": [
    {
     "data": {
      "text/plain": [
       "array([1, 2, 0])"
      ]
     },
     "execution_count": 30,
     "metadata": {},
     "output_type": "execute_result"
    }
   ],
   "source": [
    "x = np.array([100,-20,2])\n",
    "x.argsort()"
   ]
  },
  {
   "cell_type": "code",
   "execution_count": 31,
   "id": "c25b8bd6",
   "metadata": {},
   "outputs": [
    {
     "name": "stdout",
     "output_type": "stream",
     "text": [
      "\n",
      "[query] you\n",
      "goobye: 0.7071067691154799\n",
      "i: 0.7071067691154799\n",
      "hello: 0.7071067691154799\n",
      "say: 0.0\n",
      "and: 0.0\n"
     ]
    }
   ],
   "source": [
    "most_similar(\"you\", word_to_id, id_to_word, co_mat, top=5)"
   ]
  },
  {
   "cell_type": "markdown",
   "id": "faa158d6",
   "metadata": {},
   "source": [
    "## 상호정보량"
   ]
  },
  {
   "cell_type": "code",
   "execution_count": 32,
   "id": "eba8aa5f",
   "metadata": {},
   "outputs": [],
   "source": [
    "def ppmi(C, verbose=False, eps=1e-8):\n",
    "    M=np.zeros_like(C, dtype=np.float32)\n",
    "    N=np.sum(C)\n",
    "    S=np.sum(C, axis=0)\n",
    "\n",
    "    total=C.shape[0]*C.shape[1]  #total number!\n",
    "    cnt=0\n",
    "\n",
    "    for i in range(C.shape[0]):\n",
    "        for j in range(C.shape[1]):\n",
    "            pmi=np.log2(C[i,j]*N/(S[j]*S[i])+eps)\n",
    "            M[i,j]=max(0,pmi)\n",
    "\n",
    "            if verbose:\n",
    "                cnt+=1\n",
    "                if cnt%(total//100+1)==0:\n",
    "                    print(\"%.1f%% complete\" %(100*cnt/total))\n",
    "\n",
    "    return M"
   ]
  },
  {
   "cell_type": "code",
   "execution_count": 33,
   "id": "7dfe3f8f",
   "metadata": {},
   "outputs": [
    {
     "name": "stdout",
     "output_type": "stream",
     "text": [
      "[[0.        1.8073549 0.        0.        0.        0.        0.       ]\n",
      " [1.8073549 0.        0.8073549 0.        0.8073549 0.8073549 0.       ]\n",
      " [0.        0.8073549 0.        1.8073549 0.        0.        0.       ]\n",
      " [0.        0.        1.8073549 0.        1.8073549 0.        0.       ]\n",
      " [0.        0.8073549 0.        1.8073549 0.        0.        0.       ]\n",
      " [0.        0.8073549 0.        0.        0.        0.        2.807355 ]\n",
      " [0.        0.        0.        0.        0.        2.807355  0.       ]]\n"
     ]
    }
   ],
   "source": [
    "ppmi_mat = ppmi(co_mat)\n",
    "print(ppmi_mat)"
   ]
  },
  {
   "cell_type": "code",
   "execution_count": 34,
   "id": "fb796599",
   "metadata": {},
   "outputs": [
    {
     "name": "stdout",
     "output_type": "stream",
     "text": [
      "\n",
      "[query] you\n",
      "goobye: 0.40786147117614746\n",
      "i: 0.40786147117614746\n",
      "hello: 0.2763834297657013\n",
      "say: 0.0\n",
      "and: 0.0\n"
     ]
    }
   ],
   "source": [
    "most_similar(\"you\", word_to_id, id_to_word, ppmi_mat, top=5)"
   ]
  },
  {
   "cell_type": "markdown",
   "id": "ab4218f0",
   "metadata": {},
   "source": [
    "## 차원감소\n",
    " * 특잇값 분해!"
   ]
  },
  {
   "cell_type": "code",
   "execution_count": 35,
   "id": "c44d9cb0",
   "metadata": {},
   "outputs": [
    {
     "name": "stdout",
     "output_type": "stream",
     "text": [
      "[0 1 0 0 0 0 0]\n",
      "[0.        1.8073549 0.        0.        0.        0.        0.       ]\n",
      "[ 3.4094876e-01 -1.1102230e-16 -1.2051624e-01 -4.1633363e-16\n",
      " -9.3232495e-01 -1.1102230e-16 -2.4257469e-17]\n"
     ]
    },
    {
     "data": {
      "image/png": "[encoded data removed]",
      "text/plain": [
       "<Figure size 432x288 with 1 Axes>"
      ]
     },
     "metadata": {
      "needs_background": "light"
     },
     "output_type": "display_data"
    }
   ],
   "source": [
    "U, S, V=np.linalg.svd(ppmi_mat)\n",
    "\n",
    "print(co_mat[0])\n",
    "print(ppmi_mat[0])\n",
    "\n",
    "print(U[0])\n",
    "\n",
    "\n",
    "import matplotlib.pyplot as plt\n",
    "\n",
    "for word, word_id in word_to_id.items():\n",
    "    plt.annotate(word, (U[word_id, 0], U[word_id, 1]))\n",
    "\n",
    "plt.scatter(U[:,0], U[:,1], alpha=0.5)\n",
    "plt.show()"
   ]
  },
  {
   "cell_type": "code",
   "execution_count": 37,
   "id": "26efc546",
   "metadata": {},
   "outputs": [
    {
     "data": {
      "text/plain": [
       "array([[ 3.4094876e-01, -1.1102230e-16],\n",
       "       [ 0.0000000e+00, -5.9763640e-01],\n",
       "       [ 4.3631220e-01, -5.5511151e-17],\n",
       "       [ 1.6653345e-16, -4.9782813e-01],\n",
       "       [ 4.3631220e-01, -3.1237506e-17],\n",
       "       [ 7.0923710e-01, -3.1237506e-17],\n",
       "       [-1.6653345e-16, -6.2848860e-01]], dtype=float32)"
      ]
     },
     "execution_count": 37,
     "metadata": {},
     "output_type": "execute_result"
    }
   ],
   "source": [
    "U[:,:2] #줄여진 표현!"
   ]
  },
  {
   "cell_type": "markdown",
   "id": "31e85039",
   "metadata": {},
   "source": [
    "# PTB dataset"
   ]
  },
  {
   "cell_type": "code",
   "execution_count": 38,
   "id": "d6f22a52",
   "metadata": {},
   "outputs": [
    {
     "name": "stdout",
     "output_type": "stream",
     "text": [
      "calculating sync happening matrix\n",
      "Calculating PPMI\n",
      "1.0% complete\n",
      "2.0% complete\n",
      "3.0% complete\n",
      "4.0% complete\n",
      "5.0% complete\n",
      "6.0% complete\n",
      "7.0% complete\n",
      "8.0% complete\n",
      "9.0% complete\n",
      "10.0% complete\n",
      "11.0% complete\n",
      "12.0% complete\n",
      "13.0% complete\n",
      "14.0% complete\n",
      "15.0% complete\n",
      "16.0% complete\n",
      "17.0% complete\n",
      "18.0% complete\n",
      "19.0% complete\n",
      "20.0% complete\n",
      "21.0% complete\n",
      "22.0% complete\n",
      "23.0% complete\n",
      "24.0% complete\n",
      "25.0% complete\n",
      "26.0% complete\n",
      "27.0% complete\n",
      "28.0% complete\n",
      "29.0% complete\n",
      "30.0% complete\n",
      "31.0% complete\n",
      "32.0% complete\n",
      "33.0% complete\n",
      "34.0% complete\n",
      "35.0% complete\n",
      "36.0% complete\n",
      "37.0% complete\n",
      "38.0% complete\n",
      "39.0% complete\n",
      "40.0% complete\n",
      "41.0% complete\n",
      "42.0% complete\n",
      "43.0% complete\n",
      "44.0% complete\n",
      "45.0% complete\n",
      "46.0% complete\n",
      "47.0% complete\n",
      "48.0% complete\n",
      "49.0% complete\n",
      "50.0% complete\n",
      "51.0% complete\n",
      "52.0% complete\n",
      "53.0% complete\n",
      "54.0% complete\n",
      "55.0% complete\n",
      "56.0% complete\n",
      "57.0% complete\n",
      "58.0% complete\n",
      "59.0% complete\n",
      "60.0% complete\n",
      "61.0% complete\n",
      "62.0% complete\n",
      "63.0% complete\n",
      "64.0% complete\n",
      "65.0% complete\n",
      "66.0% complete\n",
      "67.0% complete\n",
      "68.0% complete\n",
      "69.0% complete\n",
      "70.0% complete\n",
      "71.0% complete\n",
      "72.0% complete\n",
      "73.0% complete\n",
      "74.0% complete\n",
      "75.0% complete\n",
      "76.0% complete\n",
      "77.0% complete\n",
      "78.0% complete\n",
      "79.0% complete\n",
      "80.0% complete\n",
      "81.0% complete\n",
      "82.0% complete\n",
      "83.0% complete\n",
      "84.0% complete\n",
      "85.0% complete\n",
      "86.0% complete\n",
      "87.0% complete\n",
      "88.0% complete\n",
      "89.0% complete\n",
      "90.0% complete\n",
      "91.0% complete\n",
      "92.0% complete\n",
      "93.0% complete\n",
      "94.0% complete\n",
      "95.0% complete\n",
      "96.0% complete\n",
      "97.0% complete\n",
      "98.0% complete\n",
      "99.0% complete\n",
      "Calculating SVD\n",
      "\n",
      "[query] you\n",
      "i: 0.700317919254303\n",
      "we: 0.6367185115814209\n",
      "anybody: 0.565764307975769\n",
      "do: 0.563567042350769\n",
      "'ll: 0.5127798318862915\n",
      "\n",
      "[query] year\n",
      "month: 0.6961644291877747\n",
      "quarter: 0.6884941458702087\n",
      "earlier: 0.6663320660591125\n",
      "last: 0.6281364560127258\n",
      "next: 0.6175755858421326\n",
      "\n",
      "[query] car\n",
      "luxury: 0.6728832125663757\n",
      "auto: 0.6452109813690186\n",
      "vehicle: 0.6097723245620728\n",
      "cars: 0.6032834053039551\n",
      "corsica: 0.5698372721672058\n",
      "\n",
      "[query] toyota\n",
      "motor: 0.7585658431053162\n",
      "nissan: 0.7148030996322632\n",
      "motors: 0.6926157474517822\n",
      "lexus: 0.6583304405212402\n",
      "honda: 0.6350275278091431\n"
     ]
    }
   ],
   "source": [
    "import sys\n",
    "sys.path.append(\"../book/\")\n",
    "from util import most_similar, create_co_matrix, ppmi\n",
    "\n",
    "from dataset import ptb\n",
    "\n",
    "window_size=2\n",
    "wordvec_size=100\n",
    "\n",
    "corpus, word_to_id, id_to_word=ptb.load_data(\"train\")\n",
    "vocab_size=len(word_to_id)\n",
    "print(\"calculating sync happening matrix\")\n",
    "\n",
    "C=create_co_matrix(corpus, vocab_size, window_size)\n",
    "print(\"Calculating PPMI\")\n",
    "W=ppmi(C, verbose=True)\n",
    "\n",
    "print(\"Calculating SVD\")\n",
    "\n",
    "try:\n",
    "    from sklearn.utils.extmath import randomized_svd\n",
    "    U,S,V=randomized_svd(W, n_components=wordvec_size, n_iter=5, random_state=None)\n",
    "\n",
    "except ImportError:\n",
    "    U,S,V=np.linalg.svd(W)\n",
    "\n",
    "word_vecs=U[:, :wordvec_size]\n",
    "\n",
    "querys=['you', 'year', 'car', 'toyota']\n",
    "\n",
    "for query in querys:\n",
    "    most_similar(query, word_to_id, id_to_word, word_vecs, top=5)"
   ]
  },
  {
   "cell_type": "code",
   "execution_count": 41,
   "id": "207fd6ce",
   "metadata": {},
   "outputs": [
    {
     "data": {
      "text/plain": [
       "array([-3.3204213e-02, -2.3184963e-02, -4.5034070e-02, -7.0127800e-02,\n",
       "        2.4159282e-02,  6.2005848e-02,  4.3695889e-02,  5.0263710e-02,\n",
       "        3.1950075e-02, -4.4999357e-02,  5.4937869e-02,  2.5633902e-03,\n",
       "        1.5639246e-02, -2.1372519e-02,  1.8986067e-02,  3.7703618e-02,\n",
       "        2.9212892e-02, -1.8881964e-03,  1.9494103e-02, -8.7078195e-03,\n",
       "        3.2171395e-03, -2.8452350e-02,  8.8799195e-03, -2.4427515e-02,\n",
       "        3.5268564e-02, -6.2550366e-02,  1.9209838e-02, -2.2624819e-02,\n",
       "       -9.1801519e-03,  1.5998490e-02, -2.5073487e-02, -3.4271125e-02,\n",
       "       -4.3257838e-03,  9.7574824e-03, -1.4597591e-02, -3.2122382e-03,\n",
       "        1.0502875e-02, -2.2090811e-02,  1.9812729e-02, -3.0579071e-02,\n",
       "        2.2119859e-03,  4.5582555e-02, -2.7268168e-02,  4.3515142e-02,\n",
       "        7.2897901e-03, -5.3543430e-03, -3.8376059e-02, -5.7572708e-03,\n",
       "        4.8726521e-05,  1.0922983e-02,  3.7110668e-02, -1.6562868e-02,\n",
       "       -4.2427450e-02, -3.2285163e-03,  2.2876345e-02,  6.1054109e-03,\n",
       "       -1.6760074e-02, -1.7818457e-02,  3.0724060e-02, -6.4915642e-03,\n",
       "       -8.0134459e-03,  2.3595046e-02, -3.1389970e-02, -1.0297818e-02,\n",
       "       -2.1638093e-03, -2.6215119e-02, -1.6810717e-02, -2.1305349e-02,\n",
       "       -2.8251311e-02,  2.1462629e-03,  1.2801999e-02, -2.3265570e-02,\n",
       "       -2.9056227e-02,  2.4115482e-02, -2.1315807e-02,  1.3677049e-03,\n",
       "       -2.7836101e-02,  6.2644361e-03,  3.4727365e-02, -1.8155761e-02,\n",
       "       -3.1263195e-03, -5.8617904e-03,  2.3297605e-03, -1.2318498e-02,\n",
       "       -1.7161533e-03,  2.7440386e-02, -3.5570681e-02, -8.5085714e-03,\n",
       "       -2.8603738e-02,  1.7862701e-03, -2.1182755e-02,  2.5956552e-02,\n",
       "       -9.1695981e-03,  3.2256448e-03, -3.5155796e-02,  2.2841139e-02,\n",
       "       -1.4231598e-02, -4.1965272e-02, -2.6353752e-02,  1.8040475e-02],\n",
       "      dtype=float32)"
      ]
     },
     "execution_count": 41,
     "metadata": {},
     "output_type": "execute_result"
    }
   ],
   "source": [
    "word_vecs[word_to_id[\"you\"]]"
   ]
  },
  {
   "cell_type": "code",
   "execution_count": 42,
   "id": "bfe7ceee",
   "metadata": {},
   "outputs": [
    {
     "data": {
      "text/plain": [
       "10000"
      ]
     },
     "execution_count": 42,
     "metadata": {},
     "output_type": "execute_result"
    }
   ],
   "source": [
    "vocab_size"
   ]
  },
  {
   "cell_type": "code",
   "execution_count": null,
   "id": "01bd7cb8",
   "metadata": {},
   "outputs": [],
   "source": []
  }
 ],
 "metadata": {
  "kernelspec": {
   "display_name": "Python [conda env:DLFS]",
   "language": "python",
   "name": "conda-env-DLFS-py"
  },
  "language_info": {
   "codemirror_mode": {
    "name": "ipython",
    "version": 3
   },
   "file_extension": ".py",
   "mimetype": "text/x-python",
   "name": "python",
   "nbconvert_exporter": "python",
   "pygments_lexer": "ipython3",
   "version": "3.10.4"
  }
 },
 "nbformat": 4,
 "nbformat_minor": 5
}
